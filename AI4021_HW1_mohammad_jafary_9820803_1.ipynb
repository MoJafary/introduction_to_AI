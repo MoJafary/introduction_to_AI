{
  "nbformat": 4,
  "nbformat_minor": 0,
  "metadata": {
    "colab": {
      "provenance": [],
      "include_colab_link": true
    },
    "kernelspec": {
      "name": "python3",
      "display_name": "Python 3"
    },
    "language_info": {
      "name": "python"
    }
  },
  "cells": [
    {
      "cell_type": "markdown",
      "metadata": {
        "id": "view-in-github",
        "colab_type": "text"
      },
      "source": [
        "<a href=\"https://colab.research.google.com/github/MoJafary/introduction_to_AI/blob/main/AI4021_HW1_mohammad_jafary_9820803_1.ipynb\" target=\"_parent\"><img src=\"https://colab.research.google.com/assets/colab-badge.svg\" alt=\"Open In Colab\"/></a>"
      ]
    },
    {
      "cell_type": "markdown",
      "source": [
        "**Question 1:** Write a Python program that asks the user for their age. If the age is greater than or equal to 18, print \"You are an adult.\" Otherwise, print \"You are a minor.\""
      ],
      "metadata": {
        "id": "6_vl9BFfOXWG"
      }
    },
    {
      "cell_type": "code",
      "source": [
        "x = int(input('enter your age:'))\n",
        "\n",
        "if x >= 18:\n",
        "  print('you are an adult')\n",
        "else:\n",
        "  print('you are a minor')\n"
      ],
      "metadata": {
        "id": "CAbJIkUPOcQs",
        "colab": {
          "base_uri": "https://localhost:8080/"
        },
        "outputId": "936bb88a-51f4-4076-848f-e527fd26f7c3"
      },
      "execution_count": 14,
      "outputs": [
        {
          "output_type": "stream",
          "name": "stdout",
          "text": [
            "enter your age:5\n",
            "you are a minor\n"
          ]
        }
      ]
    },
    {
      "cell_type": "markdown",
      "source": [
        "**Question 2:** Write a Python program to print the numbers from 1 to 10 using a for loop."
      ],
      "metadata": {
        "id": "r_W1sWoQOezD"
      }
    },
    {
      "cell_type": "code",
      "source": [
        "for i in range(1,11):\n",
        "  print(i)"
      ],
      "metadata": {
        "colab": {
          "base_uri": "https://localhost:8080/"
        },
        "id": "__o_-ZodOhbo",
        "outputId": "a4bb16b3-5bc3-410b-b989-309e39a61a04"
      },
      "execution_count": 39,
      "outputs": [
        {
          "output_type": "stream",
          "name": "stdout",
          "text": [
            "1\n",
            "2\n",
            "3\n",
            "4\n",
            "5\n",
            "6\n",
            "7\n",
            "8\n",
            "9\n",
            "10\n"
          ]
        }
      ]
    },
    {
      "cell_type": "markdown",
      "source": [
        "**Question 3:** Write a Python program to calculate the sum of all even numbers from 1 to 20 using a while loop."
      ],
      "metadata": {
        "id": "2q7OyBe_Oiud"
      }
    },
    {
      "cell_type": "code",
      "source": [
        "sumation=0\n",
        "i = 1\n",
        "while i<21:\n",
        "  if i%2==0:\n",
        "    sumation += i\n",
        "  i += 1\n",
        "print('the sum of all even numbers from 1 to 20',sumation)\n",
        "\n"
      ],
      "metadata": {
        "colab": {
          "base_uri": "https://localhost:8080/"
        },
        "id": "r3uY0I6GOlB3",
        "outputId": "322a7457-6653-4da7-bd3c-a6b86c4d18a0"
      },
      "execution_count": 40,
      "outputs": [
        {
          "output_type": "stream",
          "name": "stdout",
          "text": [
            "the sum of all even numbers from 1 to 20 110\n"
          ]
        }
      ]
    },
    {
      "cell_type": "markdown",
      "source": [
        "**Question 4:** Define a function called multiply that takes two parameters and returns their product."
      ],
      "metadata": {
        "id": "YZprv77SOowG"
      }
    },
    {
      "cell_type": "code",
      "source": [
        "def multiply(x,y):\n",
        "  output = x*y\n",
        "  return output\n",
        "\n",
        "answer = multiply(13,2)\n",
        "print ('answer of 13 * 2 is:',answer)"
      ],
      "metadata": {
        "id": "6Y0USeerOrUN",
        "colab": {
          "base_uri": "https://localhost:8080/"
        },
        "outputId": "95f4c30b-112b-4c74-e858-98f5c854e5a5"
      },
      "execution_count": 41,
      "outputs": [
        {
          "output_type": "stream",
          "name": "stdout",
          "text": [
            "answer of 13 * 2 is: 26\n"
          ]
        }
      ]
    },
    {
      "cell_type": "markdown",
      "source": [
        "**Question 5:** Create a class called Person with a constructor method that initializes the name and age attributes. Then, create an instance of the Person class and print the person's name and age."
      ],
      "metadata": {
        "id": "0GOwbOCPOtBN"
      }
    },
    {
      "cell_type": "code",
      "source": [
        "class Person:\n",
        "  def __init__(self, name, age):\n",
        "    self.name = name\n",
        "    self. age = age\n",
        "  def print_name(self):\n",
        "    print('Name:',self.name)\n",
        "  def print_age(self):\n",
        "    print('Age:',self.age)\n",
        "\n",
        "\n",
        "person1 = Person(\"hores\", 351)\n",
        "\n",
        "person1.print_name()\n",
        "person1.print_age()\n"
      ],
      "metadata": {
        "id": "WcAY-oMeOv1v",
        "colab": {
          "base_uri": "https://localhost:8080/"
        },
        "outputId": "266178f8-d8dd-4a64-997b-e930738abb1b"
      },
      "execution_count": 42,
      "outputs": [
        {
          "output_type": "stream",
          "name": "stdout",
          "text": [
            "Name: hores\n",
            "Age: 351\n"
          ]
        }
      ]
    },
    {
      "cell_type": "markdown",
      "source": [
        "**Question 6:** Create a subclass called `Student` that inherits from the `Person` class. Add an additional attribute called `student_id` to the `Student` class. Create an instance of the `Student` class and print the student's name, age, and student ID."
      ],
      "metadata": {
        "id": "JMq7nrdROxIF"
      }
    },
    {
      "cell_type": "code",
      "source": [
        "class Person:\n",
        "  def __init__(self, name, age):\n",
        "    self.name = name\n",
        "    self. age = age\n",
        "  def print_name(self):\n",
        "    print('Name:',self.name)\n",
        "  def print_age(self):\n",
        "    print('Age:',self.age)\n",
        "\n",
        "class Student(Person):\n",
        "  def __init__(self, name, age, student_id):\n",
        "    super().__init__(name, age)\n",
        "    self.student_id = student_id\n",
        "\n",
        "  def print_name(self):\n",
        "    print('Name:',self.name)\n",
        "  def print_age(self):\n",
        "    print('Age:',self.age)\n",
        "  def print_id(self):\n",
        "    print('id:',self.student_id)\n",
        "\n",
        "\n",
        "student1 = Student('mohammad', 23, 9820803)\n",
        "student1.print_name()\n",
        "student1.print_age()\n",
        "student1.print_id()"
      ],
      "metadata": {
        "colab": {
          "base_uri": "https://localhost:8080/"
        },
        "id": "vpEpTshwO8Xi",
        "outputId": "5f066f86-c993-427e-dac8-5f7b40ecae69"
      },
      "execution_count": null,
      "outputs": [
        {
          "output_type": "stream",
          "name": "stdout",
          "text": [
            "Name: mohammad\n",
            "Age: 23\n",
            "id: 9820803\n"
          ]
        }
      ]
    },
    {
      "cell_type": "markdown",
      "source": [
        "**Question 7:** Write a Python program that prompts the user to enter a number and then prints whether the number is prime or not. Create a function called `is_prime` that takes an integer as an argument and returns True if it's prime, and False otherwise."
      ],
      "metadata": {
        "id": "5TxkMVTOPIRF"
      }
    },
    {
      "cell_type": "code",
      "source": [
        "def PrimeDetection(x):\n",
        "\n",
        "  for i in range(2,int(x/2)):\n",
        "    if x%i == 0:\n",
        "      prime = False\n",
        "      break\n",
        "    else :\n",
        "      prime = True\n",
        "\n",
        "  if prime == False:\n",
        "    print(x,'is not prime')\n",
        "  else:\n",
        "    print(x,'is prime')\n",
        "\n",
        "\n",
        "PrimeDetection(91)"
      ],
      "metadata": {
        "colab": {
          "base_uri": "https://localhost:8080/"
        },
        "id": "UELQoZzKPNLm",
        "outputId": "da1f7863-f874-44c5-b975-8ae9391e4c31"
      },
      "execution_count": null,
      "outputs": [
        {
          "output_type": "stream",
          "name": "stdout",
          "text": [
            "91 is not prime\n"
          ]
        }
      ]
    },
    {
      "cell_type": "markdown",
      "source": [
        "**Question 8:** Write a Python program that calculates the factorial of a given number using a recursive function. Prompt the user for an integer input and print its factorial."
      ],
      "metadata": {
        "id": "HR0mHW5nPP-l"
      }
    },
    {
      "cell_type": "code",
      "source": [
        "\n",
        "def factoriel(x):\n",
        "\n",
        "  if x == 1:\n",
        "     return 1\n",
        "  else:\n",
        "     return (x * factorial(x-1))\n",
        "\n",
        "\n",
        "\n",
        "x = int(input('enter an intiger:'))\n",
        "print('factoriel',x, 'is :',factoriel(x))"
      ],
      "metadata": {
        "colab": {
          "base_uri": "https://localhost:8080/"
        },
        "id": "gm5j51vlPS4y",
        "outputId": "b815b0dd-d80d-4c5b-d97a-89a7e2e1fa14"
      },
      "execution_count": null,
      "outputs": [
        {
          "output_type": "stream",
          "name": "stdout",
          "text": [
            "Enter an integer: 10\n",
            "Factorial of 10 is 3628800\n"
          ]
        }
      ]
    },
    {
      "cell_type": "markdown",
      "source": [
        "**Question 9:** Create a class called `Rectangle` with attributes `width` and `height`. Add a method `calculate_area` that calculates and returns the area of the rectangle. Create an instance of the `Rectangle` class and print its area."
      ],
      "metadata": {
        "id": "KgQI1zFkPcRb"
      }
    },
    {
      "cell_type": "code",
      "source": [
        "class Rectangle:\n",
        "  def __init__(self, width, height):\n",
        "    self.width=width\n",
        "    self.height=height\n",
        "  def calculate_area(self):\n",
        "    return self.width*self.height\n",
        "\n",
        "rectangle1=Rectangle(2,3)\n",
        "area = rectangle1.calculate_area()\n",
        "print('area:',area)"
      ],
      "metadata": {
        "colab": {
          "base_uri": "https://localhost:8080/"
        },
        "id": "S2yIbrGMPUHN",
        "outputId": "7158fc80-c8d4-4de1-c93c-355ad05da22e"
      },
      "execution_count": 19,
      "outputs": [
        {
          "output_type": "stream",
          "name": "stdout",
          "text": [
            "area: 6\n"
          ]
        }
      ]
    },
    {
      "cell_type": "markdown",
      "source": [
        "**Question 10:** Create a subclass called `Square` that inherits from the `Rectangle` class. Add a method `calculate_perimeter` to the `Square` class that calculates and returns the perimeter of the square. Create an instance of the `Square` class and print its perimeter."
      ],
      "metadata": {
        "id": "hZJpUWXiPnUy"
      }
    },
    {
      "cell_type": "code",
      "source": [
        "class Rectangle:\n",
        "  def __init__(self, width, height):\n",
        "    self.width=width\n",
        "    self.height=height\n",
        "  def calculate_area(self):\n",
        "    return self.width*self.height\n",
        "class Squer(Rectangle):\n",
        "  def __init__(self, length):\n",
        "    super().__init__(length, length)\n",
        "    self.length=length\n",
        "  def calculate_perimeter(self):\n",
        "    return self.length*4\n",
        "\n",
        "squer1=Squer(5)\n",
        "perimeter = squer1.calculate_perimeter()\n",
        "print('perimeter:',perimeter)"
      ],
      "metadata": {
        "colab": {
          "base_uri": "https://localhost:8080/"
        },
        "id": "rrvDKau6Prgv",
        "outputId": "cd3ebfdc-45b0-4c15-bf61-216bb41ef018"
      },
      "execution_count": 23,
      "outputs": [
        {
          "output_type": "stream",
          "name": "stdout",
          "text": [
            "perimeter: 20\n"
          ]
        }
      ]
    },
    {
      "cell_type": "markdown",
      "source": [
        "**Question 11:** Create a base class called `Animal` with attributes `name` and `species`. Provide a constructor to initialize these attributes and a method called `speak` that prints a generic message like \"The animal makes a sound.\""
      ],
      "metadata": {
        "id": "bAvC4oKdPySI"
      }
    },
    {
      "cell_type": "code",
      "source": [
        "class Animal:\n",
        "  def __init__(self, name, species):\n",
        "    self.name=name\n",
        "    self.species=species\n",
        "  def Speak(self):\n",
        "    print(self.name, 'make a sound')\n",
        "\n",
        "animal1 = Animal(\"dagger\", \"dog\")\n",
        "animal1.Speak()"
      ],
      "metadata": {
        "id": "ReV5Ul0ZP-n7",
        "colab": {
          "base_uri": "https://localhost:8080/"
        },
        "outputId": "8b78aab7-d47d-4b04-cb16-485e058afd5b"
      },
      "execution_count": 28,
      "outputs": [
        {
          "output_type": "stream",
          "name": "stdout",
          "text": [
            "dagger make a sound\n"
          ]
        }
      ]
    },
    {
      "cell_type": "markdown",
      "source": [
        "**Question 12:** Create a subclass called `Dog` that inherits from the `Animal` class. Add a constructor to initialize the `name`, `species`, and `breed` attributes specific to dogs. Override the `speak` method in the `Dog` class to print \"Woof!\""
      ],
      "metadata": {
        "id": "B27SF_YbQANC"
      }
    },
    {
      "cell_type": "code",
      "source": [
        "class Animal:\n",
        "  def __init__(self, name, species):\n",
        "    self.name=name\n",
        "    self.species=species\n",
        "\n",
        "class Dog(Animal):\n",
        "  def __init__(self, name ,species, breed):\n",
        "    super().__init__(name, species)\n",
        "    self.breed = breed\n",
        "  def Speak(self):\n",
        "    print('Woof!')\n",
        "\n",
        "dog1 = Dog('dagger', 'dog', 'husky')\n",
        "dog1.Speak()"
      ],
      "metadata": {
        "id": "3Gn8dy-QQIGA",
        "colab": {
          "base_uri": "https://localhost:8080/"
        },
        "outputId": "d9518cf4-b43f-4b54-8f98-ae16415a4a82"
      },
      "execution_count": 32,
      "outputs": [
        {
          "output_type": "stream",
          "name": "stdout",
          "text": [
            "Woof!\n"
          ]
        }
      ]
    },
    {
      "cell_type": "markdown",
      "source": [
        "**Question 13:** Create another subclass called `Cat` that inherits from the `Animal` class. Add a constructor to initialize the `name`, `species`, and `color` attributes specific to cats. Override the `speak` method in the `Cat` class to print \"Meow!\""
      ],
      "metadata": {
        "id": "evEYwP3GQKHU"
      }
    },
    {
      "cell_type": "code",
      "source": [
        "class Animal:\n",
        "  def __init__(self, name, species):\n",
        "    self.name=name\n",
        "    self.species=species\n",
        "\n",
        "class Dog(Animal):\n",
        "  def __init__(self, name ,species, breed):\n",
        "    super().__init__(name, species)\n",
        "    self.breed = breed\n",
        "  def Speak(self):\n",
        "    print('Woof!')\n",
        "class Cat(Animal):\n",
        "  def __init__(self, name ,species, color):\n",
        "    super().__init__(name, species)\n",
        "    self.color = color\n",
        "  def Speak(self):\n",
        "    print('Meow!')\n",
        "\n",
        "dog1 = Dog('dagger', 'dog', 'husky')\n",
        "cat1 = Cat('kuchy', 'dog', 'black')\n",
        "dog1.Speak()\n",
        "cat1.Speak()"
      ],
      "metadata": {
        "id": "OOuq8AP2QT9W",
        "colab": {
          "base_uri": "https://localhost:8080/"
        },
        "outputId": "7fa98bc9-18c7-43ca-99f2-69c5336a0b27"
      },
      "execution_count": 34,
      "outputs": [
        {
          "output_type": "stream",
          "name": "stdout",
          "text": [
            "Woof!\n",
            "Meow!\n"
          ]
        }
      ]
    },
    {
      "cell_type": "markdown",
      "source": [
        "**Question 14:** Create instances of both the `Dog` and `Cat` classes and call their `speak` methods to demonstrate polymorphism."
      ],
      "metadata": {
        "id": "FPiIuweTQU0D"
      }
    },
    {
      "cell_type": "code",
      "source": [
        "class Animal:\n",
        "  def __init__(self, name, species):\n",
        "    self.name=name\n",
        "    self.species=species\n",
        "\n",
        "class Dog(Animal):\n",
        "  def __init__(self, name ,species, breed):\n",
        "    super().__init__(name, species)\n",
        "    self.breed = breed\n",
        "  def Speak(self):\n",
        "    print('sleepy',self.name,'says Woof!')\n",
        "class Cat(Animal):\n",
        "  def __init__(self, name ,species, color):\n",
        "    super().__init__(name, species)\n",
        "    self.color = color\n",
        "  def Speak(self):\n",
        "    print('cute',self.name,'says Meow!')\n",
        "\n",
        "dog1 = Dog('dagger', 'dog', 'husky')\n",
        "cat1 = Cat('kuchy', 'dog', 'black')\n",
        "dog1.Speak()\n",
        "cat1.Speak()"
      ],
      "metadata": {
        "colab": {
          "base_uri": "https://localhost:8080/"
        },
        "id": "YmUNsj72QZ4z",
        "outputId": "2056bd2a-4c0e-4cb7-b275-d3ad171e3198"
      },
      "execution_count": 37,
      "outputs": [
        {
          "output_type": "stream",
          "name": "stdout",
          "text": [
            "sleepy dagger says Woof!\n",
            "cute kuchy says Meow!\n"
          ]
        }
      ]
    }
  ]
}